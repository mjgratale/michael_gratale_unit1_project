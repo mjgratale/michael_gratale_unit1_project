{
 "cells": [
  {
   "cell_type": "markdown",
   "metadata": {},
   "source": [
    "<img src=\"http://imgur.com/1ZcRyrc.png\" style=\"float: left; margin: 20px; height: 55px\">\n",
    "\n",
    "# Project 1: Python Coding Exercises\n",
    "\n",
    "_Authors: Joseph Nelson (DC) _\n",
    "\n",
    "---"
   ]
  },
  {
   "cell_type": "markdown",
   "metadata": {},
   "source": [
    "The following code challenges are drawn from common exercises used in technical interviews.\n",
    "\n",
    "Please note that there may be several ways to approach each challenge. If you get stuck, try mapping out your approach in pseudocode first. Finally, while solutions to problems like these may be found online, remember that if you copy/paste code that you can't explain, you'll be missing out on the point of the project. The only way to truly learn a new skill is through practice, trial, and error - we can only help you improve by understanding where you are having trouble."
   ]
  },
  {
   "cell_type": "markdown",
   "metadata": {},
   "source": [
    "### Challenge 1: Largest Palindrome\n",
    "A palindromic number reads the same both ways. For example, 1234321 is a palindrome. The largest palindrome made from the product of two two-digit numbers is 9009 = 91 × 99. Find the largest palindrome made from the product of two three-digit numbers. Afterward, write a brief explanation walking through your code's logic in markdown."
   ]
  },
  {
   "cell_type": "code",
   "execution_count": 6,
   "metadata": {},
   "outputs": [
    {
     "name": "stdout",
     "output_type": "stream",
     "text": [
      "906609\n"
     ]
    }
   ],
   "source": [
    "#[::-1] to reverse string from Greg\n",
    "\n",
    "\n",
    "#multiply every number within range times every number within identical range and throw the products in a list\n",
    "\n",
    "possible_palins = []\n",
    " \n",
    "for i in range(100,1000):\n",
    "    for j in range(100,1000):\n",
    "        x = i * j\n",
    "        possible_palins.append(x) \n",
    "\n",
    "    \n",
    "checker = []\n",
    "for i in possible_palins:\n",
    "    if str(i) == str(i)[::-1]:\n",
    "        checker.append(i)\n",
    "\n",
    "print(max(checker))\n"
   ]
  },
  {
   "cell_type": "markdown",
   "metadata": {},
   "source": [
    "As I write this explanation I realize there are probably more pythonic approaches, but I just went \"brute force\" creating a huge list of all the products of all 3 digit natural numbers using a for loop within a for loop. Then, I used another for loop to find all the products that were palindroms by checking the string of each product against the reverse of themselves and creating a new list. Last I printed the maximum number in that list."
   ]
  },
  {
   "cell_type": "markdown",
   "metadata": {},
   "source": [
    "\n",
    "### Challenge 2: Summation of Primes\n",
    "The sum of the primes below 10 is 2 + 3 + 5 + 7 = 17. Find the sum of all the primes below 2,000. Afterward, write a brief explanation walking through your code's logic in markdown."
   ]
  },
  {
   "cell_type": "code",
   "execution_count": null,
   "metadata": {
    "collapsed": true
   },
   "outputs": [],
   "source": [
    "#find all primes in a range\n",
    "#create a function that checks for prime\n",
    "\n",
    "\n",
    "\n",
    "\n",
    "\n",
    "prime_list = []\n",
    "\n",
    "\n",
    "            \n",
    "for p in range(0,2000):\n",
    "    for i in range(0,p):\n",
    "        if p % i != 0:\n",
    "            print(str(p) + ' is prime')\n",
    "        \n",
    "        \n",
    "    \n",
    "#is_prime(range(0,20000))\n",
    "    "
   ]
  },
  {
   "cell_type": "code",
   "execution_count": 32,
   "metadata": {},
   "outputs": [
    {
     "name": "stdout",
     "output_type": "stream",
     "text": [
      "20 is not prime\n",
      "20 is not prime\n",
      "20 is not prime\n",
      "20 is not prime\n"
     ]
    }
   ],
   "source": [
    "def is_prime(x):\n",
    "    for i in range(2,x):\n",
    "        if x % i == 0:\n",
    "            print(str(x) + ' is not prime')\n",
    "            \n",
    "is_prime(20)"
   ]
  },
  {
   "cell_type": "code",
   "execution_count": 40,
   "metadata": {},
   "outputs": [
    {
     "ename": "ValueError",
     "evalue": "list.remove(x): x not in list",
     "output_type": "error",
     "traceback": [
      "\u001b[0;31m---------------------------------------------------------------------------\u001b[0m",
      "\u001b[0;31mValueError\u001b[0m                                Traceback (most recent call last)",
      "\u001b[0;32m<ipython-input-40-fe35101c4c30>\u001b[0m in \u001b[0;36m<module>\u001b[0;34m()\u001b[0m\n\u001b[1;32m      9\u001b[0m             \u001b[0mprime_list\u001b[0m\u001b[0;34m.\u001b[0m\u001b[0mremove\u001b[0m\u001b[0;34m(\u001b[0m\u001b[0mx\u001b[0m\u001b[0;34m)\u001b[0m\u001b[0;34m\u001b[0m\u001b[0m\n\u001b[1;32m     10\u001b[0m \u001b[0;34m\u001b[0m\u001b[0m\n\u001b[0;32m---> 11\u001b[0;31m \u001b[0mis_prime\u001b[0m\u001b[0;34m(\u001b[0m\u001b[0;36m30\u001b[0m\u001b[0;34m)\u001b[0m\u001b[0;34m\u001b[0m\u001b[0m\n\u001b[0m\u001b[1;32m     12\u001b[0m \u001b[0;34m\u001b[0m\u001b[0m\n\u001b[1;32m     13\u001b[0m \u001b[0mprint\u001b[0m\u001b[0;34m(\u001b[0m\u001b[0mprime_list\u001b[0m\u001b[0;34m)\u001b[0m\u001b[0;34m\u001b[0m\u001b[0m\n",
      "\u001b[0;32m<ipython-input-40-fe35101c4c30>\u001b[0m in \u001b[0;36mis_prime\u001b[0;34m(x)\u001b[0m\n\u001b[1;32m      7\u001b[0m     \u001b[0;32mfor\u001b[0m \u001b[0mi\u001b[0m \u001b[0;32min\u001b[0m \u001b[0mrange\u001b[0m\u001b[0;34m(\u001b[0m\u001b[0;36m2\u001b[0m\u001b[0;34m,\u001b[0m\u001b[0mx\u001b[0m\u001b[0;34m)\u001b[0m\u001b[0;34m:\u001b[0m\u001b[0;34m\u001b[0m\u001b[0m\n\u001b[1;32m      8\u001b[0m         \u001b[0;32mif\u001b[0m \u001b[0mx\u001b[0m \u001b[0;34m%\u001b[0m \u001b[0mi\u001b[0m \u001b[0;34m==\u001b[0m \u001b[0;36m0\u001b[0m\u001b[0;34m:\u001b[0m\u001b[0;34m\u001b[0m\u001b[0m\n\u001b[0;32m----> 9\u001b[0;31m             \u001b[0mprime_list\u001b[0m\u001b[0;34m.\u001b[0m\u001b[0mremove\u001b[0m\u001b[0;34m(\u001b[0m\u001b[0mx\u001b[0m\u001b[0;34m)\u001b[0m\u001b[0;34m\u001b[0m\u001b[0m\n\u001b[0m\u001b[1;32m     10\u001b[0m \u001b[0;34m\u001b[0m\u001b[0m\n\u001b[1;32m     11\u001b[0m \u001b[0mis_prime\u001b[0m\u001b[0;34m(\u001b[0m\u001b[0;36m30\u001b[0m\u001b[0;34m)\u001b[0m\u001b[0;34m\u001b[0m\u001b[0m\n",
      "\u001b[0;31mValueError\u001b[0m: list.remove(x): x not in list"
     ]
    }
   ],
   "source": [
    "prime_list = []\n",
    "\n",
    "for j in range(1,2000):\n",
    "    prime_list.append(j)\n",
    "\n",
    "def is_prime(x):\n",
    "    for i in range(2,x):\n",
    "        if x % i == 0:\n",
    "            prime_list.remove(x)\n",
    "\n",
    "is_prime(30)\n",
    "\n",
    "print(prime_list)"
   ]
  },
  {
   "cell_type": "code",
   "execution_count": 58,
   "metadata": {},
   "outputs": [
    {
     "name": "stdout",
     "output_type": "stream",
     "text": [
      "{3, 5, 7, 9, 11, 13, 15, 17, 19, 21, 23, 25, 27, 29, 31, 33, 35, 37, 39, 41, 43, 45, 47, 49, 51, 53, 55, 57, 59, 61, 63, 65, 67, 69, 71, 73, 75, 77, 79, 81, 83, 85, 87, 89, 91, 93, 95, 97, 99}\n"
     ]
    }
   ],
   "source": [
    "prime_list = []\n",
    "not_prime_list = []\n",
    "\n",
    "for j in range(0,100):\n",
    "    if j > 1:\n",
    "        for i in range(2,j):\n",
    "            if(j % i) == 0:\n",
    "                break\n",
    "            else:\n",
    "                prime_list.append(j)\n",
    "\n",
    "print(set(prime_list))"
   ]
  },
  {
   "cell_type": "markdown",
   "metadata": {},
   "source": [
    "I thought I'd \"show my work' for this one even though it failed. Was trying to create a list of all primes by seeing if each number in the range was divisible by itself and the range of numbers lower. When a number was not divisible I added it to a list. I had a lot of duplicates so I used the set function to eliminate even though I returned a bunch of numbers that are clearly not prime."
   ]
  },
  {
   "cell_type": "markdown",
   "metadata": {},
   "source": [
    "### Challenge 3: Multiples of 3 and 5\n",
    "If we list all of the natural numbers below 10 that are multiples of 3 or 5, we get 3, 5, 6, and 9. The sum of these multiples is 23. Find the sum of all the multiples of 3 or 5 below 1,000. Afterward, write a brief explanation walking through your code's logic in markdown."
   ]
  },
  {
   "cell_type": "code",
   "execution_count": 114,
   "metadata": {
    "collapsed": true
   },
   "outputs": [
    {
     "name": "stdout",
     "output_type": "stream",
     "text": [
      "233168\n"
     ]
    }
   ],
   "source": [
    "multiples = []\n",
    "\n",
    "for i in range(1000):\n",
    "    if i % 3 == 0:\n",
    "        multiples.append(i)\n",
    "    elif i % 5 == 0:\n",
    "        multiples.append(i)\n",
    "        \n",
    "print(sum(multiples))"
   ]
  },
  {
   "cell_type": "markdown",
   "metadata": {},
   "source": [
    "This one is easier than the first 2. I created an empty list, checked each element in range 0 - 1000 to see if it was divisible by 3 OR 5; if it was divisible by either I added to the empty list. Then I added up all the elements in that list.I was initially worried because it seemed very large but that calculation worked on smaller ranges (ie. 10 = 23)"
   ]
  },
  {
   "cell_type": "markdown",
   "metadata": {},
   "source": [
    "### Challenge 4: String Compressor\n",
    "Implement a method to perform basic string compression using the counts of repeated characters. (This is called run-length encoding.) For example, the string \"aabcccccaaa\" would become a2b1c5a3. If the “compressed” string would not become smaller than the original string, your method should return the original string. You can assume the string has only uppercase and lowercase letters (a–z). Specify whether your solution is case sensitive or case insensitive and what you would need to change to make it the other. Afterward, write a brief explanation walking through your code's logic in markdown."
   ]
  },
  {
   "cell_type": "code",
   "execution_count": 112,
   "metadata": {
    "collapsed": true
   },
   "outputs": [
    {
     "ename": "TypeError",
     "evalue": "'int' object is not subscriptable",
     "output_type": "error",
     "traceback": [
      "\u001b[0;31m---------------------------------------------------------------------------\u001b[0m",
      "\u001b[0;31mTypeError\u001b[0m                                 Traceback (most recent call last)",
      "\u001b[0;32m<ipython-input-112-9e72b84ffa42>\u001b[0m in \u001b[0;36m<module>\u001b[0;34m()\u001b[0m\n\u001b[1;32m     15\u001b[0m \u001b[0;34m\u001b[0m\u001b[0m\n\u001b[1;32m     16\u001b[0m \u001b[0;34m\u001b[0m\u001b[0m\n\u001b[0;32m---> 17\u001b[0;31m \u001b[0mstring_comp\u001b[0m\u001b[0;34m(\u001b[0m\u001b[0;34m\"aabcccccaaa\"\u001b[0m\u001b[0;34m)\u001b[0m\u001b[0;34m\u001b[0m\u001b[0m\n\u001b[0m",
      "\u001b[0;32m<ipython-input-112-9e72b84ffa42>\u001b[0m in \u001b[0;36mstring_comp\u001b[0;34m(x)\u001b[0m\n\u001b[1;32m      9\u001b[0m \u001b[0;34m\u001b[0m\u001b[0m\n\u001b[1;32m     10\u001b[0m     \u001b[0;32mfor\u001b[0m \u001b[0mchar\u001b[0m \u001b[0;32min\u001b[0m \u001b[0mrange\u001b[0m\u001b[0;34m(\u001b[0m\u001b[0;36m0\u001b[0m\u001b[0;34m,\u001b[0m\u001b[0mlen\u001b[0m\u001b[0;34m(\u001b[0m\u001b[0mx\u001b[0m\u001b[0;34m)\u001b[0m\u001b[0;34m)\u001b[0m\u001b[0;34m:\u001b[0m\u001b[0;34m\u001b[0m\u001b[0m\n\u001b[0;32m---> 11\u001b[0;31m         \u001b[0;32mif\u001b[0m \u001b[0;34m(\u001b[0m\u001b[0mchar\u001b[0m\u001b[0;34m[\u001b[0m\u001b[0mi\u001b[0m\u001b[0;34m]\u001b[0m \u001b[0;34m==\u001b[0m \u001b[0mchar\u001b[0m\u001b[0;34m[\u001b[0m\u001b[0mi\u001b[0m \u001b[0;34m-\u001b[0m \u001b[0;36m1\u001b[0m\u001b[0;34m]\u001b[0m\u001b[0;34m)\u001b[0m\u001b[0;34m:\u001b[0m\u001b[0;34m\u001b[0m\u001b[0m\n\u001b[0m\u001b[1;32m     12\u001b[0m             \u001b[0mcounter\u001b[0m \u001b[0;34m+=\u001b[0m \u001b[0;36m1\u001b[0m\u001b[0;34m\u001b[0m\u001b[0m\n\u001b[1;32m     13\u001b[0m             \u001b[0mnew_string\u001b[0m \u001b[0;34m=\u001b[0m \u001b[0mstr\u001b[0m\u001b[0;34m(\u001b[0m\u001b[0mcounter\u001b[0m\u001b[0;34m)\u001b[0m \u001b[0;34m+\u001b[0m \u001b[0mstr\u001b[0m\u001b[0;34m(\u001b[0m\u001b[0mi\u001b[0m\u001b[0;34m)\u001b[0m\u001b[0;34m\u001b[0m\u001b[0m\n",
      "\u001b[0;31mTypeError\u001b[0m: 'int' object is not subscriptable"
     ]
    }
   ],
   "source": [
    "\n",
    "#from lesson\n",
    "# my_string = 'adsaljdfojoij'\n",
    "\n",
    "# new_string = ''\n",
    "\n",
    "# for char in my_string:\n",
    "#     if char in 'aeiou':\n",
    "#         new_string += 'vowel'\n",
    "#     else:\n",
    "#         new_string += char\n",
    "\n",
    "# print(new_string)\n",
    "\n",
    "#create a function to compress a string by iterating through each character in the string over the range of the string length\n",
    "#creating a counter for each time the character is equal to the next character then return that counter + the characters\n",
    "\n",
    "def string_comp(x):\n",
    "    \n",
    "    new_string = ''\n",
    "    counter = 0\n",
    "   \n",
    "     \n",
    "    for char in range(0,len(x)):\n",
    "        if (char[i] == char[i - 1]):\n",
    "            counter += 1\n",
    "            new_string = str(counter) + str(i)\n",
    "            \n",
    "\n",
    "            \n",
    "string_comp(\"aabcccccaaa\")"
   ]
  },
  {
   "cell_type": "markdown",
   "metadata": {},
   "source": [
    "I think you need to iterate through the string updating a counter every time a character is equal to the character and then create a new string that concatenates the counter with the character being counted. I don't really know where to go with this one."
   ]
  },
  {
   "cell_type": "markdown",
   "metadata": {},
   "source": [
    "### Challenge 5: FizzBuzz\n",
    "\n",
    "Write a program that prints all of the numbers from 1 to 100. For multiples of 3, instead of the number, print \"Fizz;\" for multiples of 5, print \"Buzz.\" For numbers that are multiples of both 3 and 5, print \"FizzBuzz.\" Afterward, write a brief explanation walking through your code's logic in markdown."
   ]
  },
  {
   "cell_type": "code",
   "execution_count": 103,
   "metadata": {
    "collapsed": true
   },
   "outputs": [
    {
     "name": "stdout",
     "output_type": "stream",
     "text": [
      "[1, 2, 3, 'Fizz', 5, 'Buzz', 'Fizz', 8, 9, 'Fizz', 'Buzz', 12, 'Fizz', 14, 'FizzBuzz', 'Buzz', 17, 18, 'Fizz', 20, 'Buzz', 'Fizz', 23, 24, 'Fizz', 'Buzz', 27, 'Fizz', 29, 'FizzBuzz', 'Buzz', 32, 33, 'Fizz', 35, 'Buzz', 'Fizz', 38, 39, 'Fizz', 'Buzz', 42, 'Fizz', 44, 'FizzBuzz', 'Buzz', 47, 48, 'Fizz', 50, 'Buzz', 'Fizz', 53, 54, 'Fizz', 'Buzz', 57, 'Fizz', 59, 'FizzBuzz', 'Buzz', 62, 63, 'Fizz', 65, 'Buzz', 'Fizz', 68, 69, 'Fizz', 'Buzz', 72, 'Fizz', 74, 'FizzBuzz', 'Buzz', 77, 78, 'Fizz', 80, 'Buzz', 'Fizz', 83, 84, 'Fizz', 'Buzz', 87, 'Fizz', 89, 'FizzBuzz', 'Buzz', 92, 93, 'Fizz', 95, 'Buzz', 'Fizz', 98, 99, 'Fizz', 'Buzz', 102, 'Fizz', 104, 'FizzBuzz', 'Buzz', 107, 108, 'Fizz', 110, 'Buzz', 'Fizz', 113, 114, 'Fizz', 'Buzz', 117, 'Fizz', 119, 'FizzBuzz', 'Buzz', 122, 123, 'Fizz', 125, 'Buzz', 'Fizz', 128, 129, 'Fizz', 'Buzz', 132, 'Fizz', 134, 'FizzBuzz', 'Buzz', 137, 138, 'Fizz', 140, 'Buzz', 'Fizz', 143, 144, 'Fizz', 'Buzz', 147, 'Fizz', 149, 'FizzBuzz', 'Buzz', 152, 153, 'Fizz', 155, 'Buzz', 'Fizz', 158, 159, 'Fizz', 'Buzz', 162, 'Fizz', 164, 'FizzBuzz', 'Buzz', 167, 168, 'Fizz', 170, 'Buzz', 'Fizz', 173, 174, 'Fizz', 'Buzz', 177, 'Fizz', 179, 'FizzBuzz', 'Buzz', 182, 183, 'Fizz', 185, 'Buzz', 'Fizz', 188, 189, 'Fizz', 'Buzz', 192, 'Fizz', 194, 'FizzBuzz', 'Buzz', 197, 198, 'Fizz', 200, 'Buzz', 'Fizz', 203, 204, 'Fizz', 'Buzz', 207, 'Fizz', 209, 'FizzBuzz', 'Buzz', 212, 213, 'Fizz', 215, 'Buzz', 'Fizz', 218, 219, 'Fizz', 'Buzz', 222, 'Fizz', 224, 'FizzBuzz', 'Buzz', 227, 228, 'Fizz', 230, 'Buzz', 'Fizz', 233, 234, 'Fizz', 'Buzz', 237, 'Fizz', 239, 'FizzBuzz', 'Buzz', 242, 243, 'Fizz', 245, 'Buzz', 'Fizz', 248, 249, 'Fizz', 'Buzz', 252, 'Fizz', 254, 'FizzBuzz', 'Buzz', 257, 258, 'Fizz', 260, 'Buzz', 'Fizz', 263, 264, 'Fizz', 'Buzz', 267, 'Fizz', 269, 'FizzBuzz', 'Buzz', 272, 273, 'Fizz', 275, 'Buzz', 'Fizz', 278, 279, 'Fizz', 'Buzz', 282, 'Fizz', 284, 'FizzBuzz', 'Buzz', 287, 288, 'Fizz', 290, 'Buzz', 'Fizz', 293, 294, 'Fizz', 'Buzz', 297, 'Fizz', 299, 'FizzBuzz', 'Buzz', 302, 303, 'Fizz', 305, 'Buzz', 'Fizz', 308, 309, 'Fizz', 'Buzz', 312, 'Fizz', 314, 'FizzBuzz', 'Buzz', 317, 318, 'Fizz', 320, 'Buzz', 'Fizz', 323, 324, 'Fizz', 'Buzz', 327, 'Fizz', 329, 'FizzBuzz', 'Buzz', 332, 333, 'Fizz', 335, 'Buzz', 'Fizz', 338, 339, 'Fizz', 'Buzz', 342, 'Fizz', 344, 'FizzBuzz', 'Buzz', 347, 348, 'Fizz', 350, 'Buzz', 'Fizz', 353, 354, 'Fizz', 'Buzz', 357, 'Fizz', 359, 'FizzBuzz', 'Buzz', 362, 363, 'Fizz', 365, 'Buzz', 'Fizz', 368, 369, 'Fizz', 'Buzz', 372, 'Fizz', 374, 'FizzBuzz', 'Buzz', 377, 378, 'Fizz', 380, 'Buzz', 'Fizz', 383, 384, 'Fizz', 'Buzz', 387, 'Fizz', 389, 'FizzBuzz', 'Buzz', 392, 393, 'Fizz', 395, 'Buzz', 'Fizz', 398, 399, 'Fizz', 'Buzz', 402, 'Fizz', 404, 'FizzBuzz', 'Buzz', 407, 408, 'Fizz', 410, 'Buzz', 'Fizz', 413, 414, 'Fizz', 'Buzz', 417, 'Fizz', 419, 'FizzBuzz', 'Buzz', 422, 423, 'Fizz', 425, 'Buzz', 'Fizz', 428, 429, 'Fizz', 'Buzz', 432, 'Fizz', 434, 'FizzBuzz', 'Buzz', 437, 438, 'Fizz', 440, 'Buzz', 'Fizz', 443, 444, 'Fizz', 'Buzz', 447, 'Fizz', 449, 'FizzBuzz', 'Buzz', 452, 453, 'Fizz', 455, 'Buzz', 'Fizz', 458, 459, 'Fizz', 'Buzz', 462, 'Fizz', 464, 'FizzBuzz', 'Buzz', 467, 468, 'Fizz', 470, 'Buzz', 'Fizz', 473, 474, 'Fizz', 'Buzz', 477, 'Fizz', 479, 'FizzBuzz', 'Buzz', 482, 483, 'Fizz', 485, 'Buzz', 'Fizz', 488, 489, 'Fizz', 'Buzz', 492, 'Fizz', 494, 'FizzBuzz', 'Buzz', 497, 498, 'Fizz', 500, 'Buzz', 'Fizz', 503, 504, 'Fizz', 'Buzz', 507, 'Fizz', 509, 'FizzBuzz', 'Buzz', 512, 513, 'Fizz', 515, 'Buzz', 'Fizz', 518, 519, 'Fizz', 'Buzz', 522, 'Fizz', 524, 'FizzBuzz', 'Buzz', 527, 528, 'Fizz', 530, 'Buzz', 'Fizz', 533, 534, 'Fizz', 'Buzz', 537, 'Fizz', 539, 'FizzBuzz', 'Buzz', 542, 543, 'Fizz', 545, 'Buzz', 'Fizz', 548, 549, 'Fizz', 'Buzz', 552, 'Fizz', 554, 'FizzBuzz', 'Buzz', 557, 558, 'Fizz', 560, 'Buzz', 'Fizz', 563, 564, 'Fizz', 'Buzz', 567, 'Fizz', 569, 'FizzBuzz', 'Buzz', 572, 573, 'Fizz', 575, 'Buzz', 'Fizz', 578, 579, 'Fizz', 'Buzz', 582, 'Fizz', 584, 'FizzBuzz', 'Buzz', 587, 588, 'Fizz', 590, 'Buzz', 'Fizz', 593, 594, 'Fizz', 'Buzz', 597, 'Fizz', 599, 'FizzBuzz', 'Buzz', 602, 603, 'Fizz', 605, 'Buzz', 'Fizz', 608, 609, 'Fizz', 'Buzz', 612, 'Fizz', 614, 'FizzBuzz', 'Buzz', 617, 618, 'Fizz', 620, 'Buzz', 'Fizz', 623, 624, 'Fizz', 'Buzz', 627, 'Fizz', 629, 'FizzBuzz', 'Buzz', 632, 633, 'Fizz', 635, 'Buzz', 'Fizz', 638, 639, 'Fizz', 'Buzz', 642, 'Fizz', 644, 'FizzBuzz', 'Buzz', 647, 648, 'Fizz', 650, 'Buzz', 'Fizz', 653, 654, 'Fizz', 'Buzz', 657, 'Fizz', 659, 'FizzBuzz', 'Buzz', 662, 663, 'Fizz', 665, 'Buzz', 'Fizz', 668, 669, 'Fizz', 'Buzz', 672, 'Fizz', 674, 'FizzBuzz', 'Buzz', 677, 678, 'Fizz', 680, 'Buzz', 'Fizz', 683, 684, 'Fizz', 'Buzz', 687, 'Fizz', 689, 'FizzBuzz', 'Buzz', 692, 693, 'Fizz', 695, 'Buzz', 'Fizz', 698, 699, 'Fizz', 'Buzz', 702, 'Fizz', 704, 'FizzBuzz', 'Buzz', 707, 708, 'Fizz', 710, 'Buzz', 'Fizz', 713, 714, 'Fizz', 'Buzz', 717, 'Fizz', 719, 'FizzBuzz', 'Buzz', 722, 723, 'Fizz', 725, 'Buzz', 'Fizz', 728, 729, 'Fizz', 'Buzz', 732, 'Fizz', 734, 'FizzBuzz', 'Buzz', 737, 738, 'Fizz', 740, 'Buzz', 'Fizz', 743, 744, 'Fizz', 'Buzz', 747, 'Fizz', 749, 'FizzBuzz', 'Buzz', 752, 753, 'Fizz', 755, 'Buzz', 'Fizz', 758, 759, 'Fizz', 'Buzz', 762, 'Fizz', 764, 'FizzBuzz', 'Buzz', 767, 768, 'Fizz', 770, 'Buzz', 'Fizz', 773, 774, 'Fizz', 'Buzz', 777, 'Fizz', 779, 'FizzBuzz', 'Buzz', 782, 783, 'Fizz', 785, 'Buzz', 'Fizz', 788, 789, 'Fizz', 'Buzz', 792, 'Fizz', 794, 'FizzBuzz', 'Buzz', 797, 798, 'Fizz', 800, 'Buzz', 'Fizz', 803, 804, 'Fizz', 'Buzz', 807, 'Fizz', 809, 'FizzBuzz', 'Buzz', 812, 813, 'Fizz', 815, 'Buzz', 'Fizz', 818, 819, 'Fizz', 'Buzz', 822, 'Fizz', 824, 'FizzBuzz', 'Buzz', 827, 828, 'Fizz', 830, 'Buzz', 'Fizz', 833, 834, 'Fizz', 'Buzz', 837, 'Fizz', 839, 'FizzBuzz', 'Buzz', 842, 843, 'Fizz', 845, 'Buzz', 'Fizz', 848, 849, 'Fizz', 'Buzz', 852, 'Fizz', 854, 'FizzBuzz', 'Buzz', 857, 858, 'Fizz', 860, 'Buzz', 'Fizz', 863, 864, 'Fizz', 'Buzz', 867, 'Fizz', 869, 'FizzBuzz', 'Buzz', 872, 873, 'Fizz', 875, 'Buzz', 'Fizz', 878, 879, 'Fizz', 'Buzz', 882, 'Fizz', 884, 'FizzBuzz', 'Buzz', 887, 888, 'Fizz', 890, 'Buzz', 'Fizz', 893, 894, 'Fizz', 'Buzz', 897, 'Fizz', 899, 'FizzBuzz', 'Buzz', 902, 903, 'Fizz', 905, 'Buzz', 'Fizz', 908, 909, 'Fizz', 'Buzz', 912, 'Fizz', 914, 'FizzBuzz', 'Buzz', 917, 918, 'Fizz', 920, 'Buzz', 'Fizz', 923, 924, 'Fizz', 'Buzz', 927, 'Fizz', 929, 'FizzBuzz', 'Buzz', 932, 933, 'Fizz', 935, 'Buzz', 'Fizz', 938, 939, 'Fizz', 'Buzz', 942, 'Fizz', 944, 'FizzBuzz', 'Buzz', 947, 948, 'Fizz', 950, 'Buzz', 'Fizz', 953, 954, 'Fizz', 'Buzz', 957, 'Fizz', 959, 'FizzBuzz', 'Buzz', 962, 963, 'Fizz', 965, 'Buzz', 'Fizz', 968, 969, 'Fizz', 'Buzz', 972, 'Fizz', 974, 'FizzBuzz', 'Buzz', 977, 978, 'Fizz', 980, 'Buzz', 'Fizz', 983, 984, 'Fizz', 'Buzz', 987, 'Fizz', 989, 'FizzBuzz', 'Buzz', 992, 993, 'Fizz', 995, 'Buzz', 'Fizz', 998, 999, 'Fizz']\n"
     ]
    }
   ],
   "source": [
    "fb_list = []\n",
    "\n",
    "for i in range(1,1001):\n",
    "    fb_list.append(i)\n",
    "\n",
    "    \n",
    "for i in range(1,1000):\n",
    "    if fb_list[i] % 15 == 0:\n",
    "        fb_list[i] = 'FizzBuzz'\n",
    "    elif i % 5 == 0:\n",
    "        fb_list[i] = 'Buzz'\n",
    "    elif i % 3 ==0:\n",
    "        fb_list[i] = 'Fizz'\n",
    "        \n",
    "print(fb_list)\n",
    "        \n",
    "#replace each element with the corresponding element from the appropriate list and print the complete list or convert the lists\n",
    "#to strings and replace the elements like characters\n",
    "\n"
   ]
  }
 ],
 "metadata": {
  "anaconda-cloud": {},
  "kernelspec": {
   "display_name": "Python 3",
   "language": "python",
   "name": "python3"
  },
  "language_info": {
   "codemirror_mode": {
    "name": "ipython",
    "version": 3
   },
   "file_extension": ".py",
   "mimetype": "text/x-python",
   "name": "python",
   "nbconvert_exporter": "python",
   "pygments_lexer": "ipython3",
   "version": "3.7.0"
  }
 },
 "nbformat": 4,
 "nbformat_minor": 2
}
